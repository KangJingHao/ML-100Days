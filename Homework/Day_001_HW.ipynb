{
 "cells": [
  {
   "cell_type": "markdown",
   "metadata": {},
   "source": [
    "## 練習時間\n",
    "#### 請寫一個函式用來計算 Mean Square Error\n",
    "$ MSE = \\frac{1}{n}\\sum_{i=1}^{n}{(Y_i - \\hat{Y}_i)^2} $\n",
    "\n",
    "### Hint: [如何取平方](https://googoodesign.gitbooks.io/-ezpython/unit-1.html)"
   ]
  },
  {
   "cell_type": "code",
   "execution_count": 9,
   "metadata": {
    "collapsed": true
   },
   "outputs": [],
   "source": [
    "import numpy as np\n",
    "import matplotlib.pyplot as plt"
   ]
  },
  {
   "cell_type": "code",
   "execution_count": 20,
   "metadata": {
    "collapsed": true
   },
   "outputs": [],
   "source": [
    "def mean_squared_error (y, yp):\n",
    "    \n",
    "    \"\"\"Function to calculate Mean Square Error (MSE)\n",
    "    MSE 為平均平方誤差 一般來說 MSE 越小越好\n",
    "    [Parameters]\n",
    "        - y: 實際值\n",
    "        - yp: 預測值\n",
    "    [Returns]\n",
    "        - mse: MSE\n",
    "    \"\"\"\n",
    "    MSE = mse= sum(np.square(y - yp)) / len(y)\n",
    "    return mse"
   ]
  },
  {
   "cell_type": "code",
   "execution_count": 21,
   "metadata": {
    "collapsed": true
   },
   "outputs": [],
   "source": [
    "def mean_absolute_error(y, y_hat):\n",
    "    \"\"\"\n",
    "    計算 MAE\n",
    "    Args:\n",
    "        - y: 實際值\n",
    "        - yp: 預測值\n",
    "    Return:\n",
    "        - mae: MAE\n",
    "    \"\"\"\n",
    "    mae = MAE = sum(abs(y - y_hat)) / len(y)\n",
    "    return mae"
   ]
  },
  {
   "cell_type": "code",
   "execution_count": 22,
   "metadata": {},
   "outputs": [
    {
     "data": {
      "image/png": "[encoded data removed]",
      "text/plain": [
       "<matplotlib.figure.Figure at 0x10f050128>"
      ]
     },
     "metadata": {},
     "output_type": "display_data"
    }
   ],
   "source": [
    "w = 3\n",
    "b = 0.5\n",
    "\n",
    "x_lin = np.linspace(0, 100, 101)\n",
    "\n",
    "y = (x_lin + np.random.randn(101) * 5) * w + b\n",
    "\n",
    "plt.plot(x_lin, y, 'b.', label = 'data points')\n",
    "plt.title(\"Assume we have data points\")\n",
    "plt.legend(loc = 2)\n",
    "plt.show()"
   ]
  },
  {
   "cell_type": "code",
   "execution_count": 13,
   "metadata": {},
   "outputs": [
    {
     "data": {
      "image/png": "[encoded data removed]",
      "text/plain": [
       "<matplotlib.figure.Figure at 0x10bb2cda0>"
      ]
     },
     "metadata": {},
     "output_type": "display_data"
    }
   ],
   "source": [
    "y_hat = x_lin * w + b\n",
    "plt.plot(x_lin, y, 'b.', label = 'data')\n",
    "plt.plot(x_lin, y_hat, 'r-', label = 'prediction')\n",
    "plt.title(\"Assume we have data points (And the prediction)\")\n",
    "plt.legend(loc = 2)\n",
    "plt.show()"
   ]
  },
  {
   "cell_type": "code",
   "execution_count": 32,
   "metadata": {},
   "outputs": [
    {
     "name": "stdout",
     "output_type": "stream",
     "text": [
      "The Mean squared error is 290.022\n",
      "The Mean absolute error is 14.157\n"
     ]
    }
   ],
   "source": [
    "# 執行 Function, 確認有沒有正常執行\n",
    "MSE = mean_squared_error(y, y_hat)\n",
    "MAE = mean_absolute_error(y, y_hat)\n",
    "print(\"The Mean squared error is %.3f\" % (MSE))\n",
    "print(\"The Mean absolute error is %.3f\" % (MAE))"
   ]
  },
  {
   "cell_type": "markdown",
   "metadata": {
    "collapsed": true
   },
   "source": [
    "作業1：\n",
    "\n",
    "請上 Kaggle, 在 Competitions 或 Dataset 中找一組競賽或資料並寫下：\n",
    "\n",
    "你選的這組資料為何重要\n",
    "ANS : 本身就是在廣告投放相關的工作,想藉由這個比賽了解如何透過各種模型方法預測廣告成效與未來的趨勢\n",
    "\n",
    "資料從何而來 (tips: 譬如提供者是誰、以什麼方式蒐集) 資料提供者為avito , avito 是俄羅斯前三大的訊息分類網站的公司\n",
    "\n",
    "蒐集而來的資料型態為何 Avito提供了多個數據集, 除了主要的訓練集(train.csv, 150萬+樣本)和測試集(test.csv, 50萬+樣本)外, 還有train_active.csv/test_active.csv(和train/test同時期的數據, 但沒有成交概率和圖片信息); periods_train.csv/periods_test.csv(只包含了active數據中每件商品的id, activation_date - 廣告投放日期, date_from/date_to - 廣告展示的第一天和最後一天); train_jpg.zip/test_jpg.zip(train和test樣本的圖片)\n",
    "\n",
    "這組資料想解決的問題如何評估 每件商品的成交概率, 以此計算得到的RMSE(Root Mean Squared Error)作為評判標準\n",
    "\n",
    "作業2：\n",
    "\n",
    "想像你經營一個自由載客車隊，你希望能透過數據分析以提升業績，請你思考並描述你如何規劃整體的分析/解決方案：\n",
    "\n",
    "核心問題為何 (tips：如何定義 「提升業績 & 你的假設」) 假設我是一個載客的APP, 核心問題會有兩個 \n",
    "(1)是如何增加我供需雙方數量也就是駕駛與乘客的數量（不在此次討論範圍之內） \n",
    "(2)如何在有限的車輛數內，把駕駛調度到最多乘客叫車的地方，提升載客的效率盡而提高業績。\n",
    "\n",
    "資料從何而來 (tips：哪些資料可能會對你想問的問題產生影響 & 資料如何蒐集) APP，可以收集所有資料， \n",
    "1.乘客發出需求的時間 \n",
    "2.駕駛收到需求的時間 \n",
    "3.駕駛到達乘客地方的時間\n",
    "4.此趟行程的總時間 \n",
    "5.Google API收集熱點\n",
    "\n",
    "蒐集而來的資料型態為何\n",
    "1.乘客發出需求的時間 int (sec) \n",
    "2.駕駛收到需求的時間 int (sec) \n",
    "3.駕駛到達乘客地方的時間 int (sec) \n",
    "4.此趟行程的總時間 int (sec)\n",
    "5.Google API收集熱點\n",
    "\n",
    "你要回答的問題，其如何評估 (tips：你的假設如何驗證)\n",
    "The RMSLE is calculated as"
   ]
  }
 ],
 "metadata": {
  "anaconda-cloud": {},
  "kernelspec": {
   "display_name": "Python 3",
   "language": "python",
   "name": "python3"
  },
  "language_info": {
   "codemirror_mode": {
    "name": "ipython",
    "version": 3
   },
   "file_extension": ".py",
   "mimetype": "text/x-python",
   "name": "python",
   "nbconvert_exporter": "python",
   "pygments_lexer": "ipython3",
   "version": "3.6.1"
  }
 },
 "nbformat": 4,
 "nbformat_minor": 1
}
